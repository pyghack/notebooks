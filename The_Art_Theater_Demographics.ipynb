{
  "nbformat": 4,
  "nbformat_minor": 0,
  "metadata": {
    "colab": {
      "name": "The Art Theater Demographics.ipynb",
      "provenance": [],
      "collapsed_sections": []
    },
    "kernelspec": {
      "name": "python3",
      "display_name": "Python 3"
    }
  },
  "cells": [
    {
      "cell_type": "code",
      "metadata": {
        "id": "HSTYH6mxy3vB",
        "colab_type": "code",
        "colab": {}
      },
      "source": [
        "import pandas as pd\n",
        "import json\n",
        "from pprint import pprint\n",
        "import pygame as pg\n",
        "import math"
      ],
      "execution_count": 0,
      "outputs": []
    },
    {
      "cell_type": "code",
      "metadata": {
        "id": "qIyaXJHEy9LH",
        "colab_type": "code",
        "outputId": "ad5120e1-ac56-4c71-f890-cce593159060",
        "colab": {
          "base_uri": "https://localhost:8080/",
          "height": 206
        }
      },
      "source": [
        "df = pd.read_csv(\"https://raw.githubusercontent.com/danielferriss/PygArtHackTheater2019/master/manipulation/demographics.csv\", delimiter=',')\n",
        "df['Total'] = df['Adult'] + df['Child'] + df['Comp'] + df['Member'] + df['Senior'] + df['Student']\n",
        "df = df[df['Total'] > 0]\n",
        "df = df.sort_values(by=['Total'], ascending=False)\n",
        "df.head()"
      ],
      "execution_count": 0,
      "outputs": [
        {
          "output_type": "execute_result",
          "data": {
            "text/html": [
              "<div>\n",
              "<style scoped>\n",
              "    .dataframe tbody tr th:only-of-type {\n",
              "        vertical-align: middle;\n",
              "    }\n",
              "\n",
              "    .dataframe tbody tr th {\n",
              "        vertical-align: top;\n",
              "    }\n",
              "\n",
              "    .dataframe thead th {\n",
              "        text-align: right;\n",
              "    }\n",
              "</style>\n",
              "<table border=\"1\" class=\"dataframe\">\n",
              "  <thead>\n",
              "    <tr style=\"text-align: right;\">\n",
              "      <th></th>\n",
              "      <th>Event</th>\n",
              "      <th>Adult</th>\n",
              "      <th>Child</th>\n",
              "      <th>Comp</th>\n",
              "      <th>Member</th>\n",
              "      <th>Senior</th>\n",
              "      <th>Student</th>\n",
              "      <th>Total</th>\n",
              "    </tr>\n",
              "  </thead>\n",
              "  <tbody>\n",
              "    <tr>\n",
              "      <th>497</th>\n",
              "      <td>Won't You Be My Neighbor?</td>\n",
              "      <td>2050</td>\n",
              "      <td>74</td>\n",
              "      <td>24</td>\n",
              "      <td>16</td>\n",
              "      <td>809</td>\n",
              "      <td>267</td>\n",
              "      <td>3240</td>\n",
              "    </tr>\n",
              "    <tr>\n",
              "      <th>439</th>\n",
              "      <td>The Rocky Horror Picture Show</td>\n",
              "      <td>2707</td>\n",
              "      <td>0</td>\n",
              "      <td>9</td>\n",
              "      <td>6</td>\n",
              "      <td>0</td>\n",
              "      <td>0</td>\n",
              "      <td>2722</td>\n",
              "    </tr>\n",
              "    <tr>\n",
              "      <th>305</th>\n",
              "      <td>RBG</td>\n",
              "      <td>1120</td>\n",
              "      <td>52</td>\n",
              "      <td>9</td>\n",
              "      <td>25</td>\n",
              "      <td>966</td>\n",
              "      <td>209</td>\n",
              "      <td>2381</td>\n",
              "    </tr>\n",
              "    <tr>\n",
              "      <th>253</th>\n",
              "      <td>Moonlight</td>\n",
              "      <td>1091</td>\n",
              "      <td>0</td>\n",
              "      <td>3</td>\n",
              "      <td>31</td>\n",
              "      <td>443</td>\n",
              "      <td>644</td>\n",
              "      <td>2212</td>\n",
              "    </tr>\n",
              "    <tr>\n",
              "      <th>187</th>\n",
              "      <td>Isle of Dogs</td>\n",
              "      <td>1120</td>\n",
              "      <td>53</td>\n",
              "      <td>16</td>\n",
              "      <td>20</td>\n",
              "      <td>237</td>\n",
              "      <td>537</td>\n",
              "      <td>1983</td>\n",
              "    </tr>\n",
              "  </tbody>\n",
              "</table>\n",
              "</div>"
            ],
            "text/plain": [
              "                             Event  Adult  Child  ...  Senior  Student  Total\n",
              "497      Won't You Be My Neighbor?   2050     74  ...     809      267   3240\n",
              "439  The Rocky Horror Picture Show   2707      0  ...       0        0   2722\n",
              "305                            RBG   1120     52  ...     966      209   2381\n",
              "253                      Moonlight   1091      0  ...     443      644   2212\n",
              "187                   Isle of Dogs   1120     53  ...     237      537   1983\n",
              "\n",
              "[5 rows x 8 columns]"
            ]
          },
          "metadata": {
            "tags": []
          },
          "execution_count": 125
        }
      ]
    },
    {
      "cell_type": "code",
      "metadata": {
        "id": "Do0M6IGiDvYg",
        "colab_type": "code",
        "colab": {}
      },
      "source": [
        "color_list = []\n",
        "for k, v in pg.color.THECOLORS.items():\n",
        "  color_list.append('#{:02x}{:02x}{:02x}'.format(*v))"
      ],
      "execution_count": 0,
      "outputs": []
    },
    {
      "cell_type": "code",
      "metadata": {
        "id": "tZMl8ZcWzAdz",
        "colab_type": "code",
        "colab": {}
      },
      "source": [
        "tree_map = {'children': [], 'name': 'CEO'}\n",
        "tree_list = []\n",
        "\n",
        "i = 1\n",
        "for event in df['Event'].tolist():\n",
        "  tree_list.append(str(event))\n",
        "  Total = int(df[df['Event']==event]['Total'])\n",
        "  \n",
        "  Adult = int(df[df['Event']==event]['Adult'])\n",
        "  Student = int(df[df['Event']==event]['Student'])\n",
        "  Child = int(df[df['Event']==event]['Child'])\n",
        "  Member = int(df[df['Event']==event]['Member'])\n",
        "  Comp = int(df[df['Event']==event]['Comp'])\n",
        "  Senior = int(df[df['Event']==event]['Senior'])\n",
        "  \n",
        "  r = max(0.02, 0.05*math.log(0.5*i))\n",
        "  \n",
        "  child = {'name': event, 'children': [], 'colname': 'level2'}\n",
        "  if Adult > 0 and Adult > Total * r:\n",
        "    child['children'].append({'name': \"Adult\", 'group': \"Ad\", 'value': Adult, 'colname': 'level3'})\n",
        "        \n",
        "  if Senior > 0 and Senior > Total * r:\n",
        "    child['children'].append({'name': \"Senior\", 'group': \"Se\", 'value': Senior, 'colname': 'level3'})\n",
        "    \n",
        "  if Student > 0 and Student > Total * r:\n",
        "    child['children'].append({'name': \"Student\", 'group': \"St\", 'value': Student, 'colname': 'level3'})\n",
        "    \n",
        "  if Child > 0 and Child > Total * r:\n",
        "    child['children'].append({'name': \"Child\", 'group': \"Ch\", 'value': Child, 'colname': 'level3'})\n",
        "    \n",
        "  if Member > 0 and Member > Total * r:\n",
        "    child['children'].append({'name': \"Member\", 'group': \"Me\", 'value': Member, 'colname': 'level3'})\n",
        "  \n",
        "  if Comp > 0 and Comp > Total * r:\n",
        "    child['children'].append({'name': \"Comp\", 'group': \"Co\", 'value': Comp, 'colname': 'level3'})\n",
        "\n",
        "\n",
        "  tree_map['children'].append(child)\n",
        "  \n",
        "  i += 1\n",
        "  if i > 100:\n",
        "    break;"
      ],
      "execution_count": 0,
      "outputs": []
    },
    {
      "cell_type": "code",
      "metadata": {
        "id": "zWjecKeZzl9y",
        "colab_type": "code",
        "outputId": "312c3f3a-96c3-4255-dc0f-4e42f4478c94",
        "colab": {
          "base_uri": "https://localhost:8080/",
          "height": 54
        }
      },
      "source": [
        "print(json.dumps(tree_map))"
      ],
      "execution_count": 0,
      "outputs": [
        {
          "output_type": "stream",
          "text": [
            "{\"children\": [{\"name\": \"Won't You Be My Neighbor?\", \"children\": [{\"name\": \"Adult\", \"group\": \"Ad\", \"value\": 2050, \"colname\": \"level3\"}, {\"name\": \"Senior\", \"group\": \"Se\", \"value\": 809, \"colname\": \"level3\"}, {\"name\": \"Student\", \"group\": \"St\", \"value\": 267, \"colname\": \"level3\"}, {\"name\": \"Child\", \"group\": \"Ch\", \"value\": 74, \"colname\": \"level3\"}], \"colname\": \"level2\"}, {\"name\": \"The Rocky Horror Picture Show\", \"children\": [{\"name\": \"Adult\", \"group\": \"Ad\", \"value\": 2707, \"colname\": \"level3\"}], \"colname\": \"level2\"}, {\"name\": \"RBG\", \"children\": [{\"name\": \"Adult\", \"group\": \"Ad\", \"value\": 1120, \"colname\": \"level3\"}, {\"name\": \"Senior\", \"group\": \"Se\", \"value\": 966, \"colname\": \"level3\"}, {\"name\": \"Student\", \"group\": \"St\", \"value\": 209, \"colname\": \"level3\"}, {\"name\": \"Child\", \"group\": \"Ch\", \"value\": 52, \"colname\": \"level3\"}], \"colname\": \"level2\"}, {\"name\": \"Moonlight\", \"children\": [{\"name\": \"Adult\", \"group\": \"Ad\", \"value\": 1091, \"colname\": \"level3\"}, {\"name\": \"Senior\", \"group\": \"Se\", \"value\": 443, \"colname\": \"level3\"}, {\"name\": \"Student\", \"group\": \"St\", \"value\": 644, \"colname\": \"level3\"}], \"colname\": \"level2\"}, {\"name\": \"Isle of Dogs\", \"children\": [{\"name\": \"Adult\", \"group\": \"Ad\", \"value\": 1120, \"colname\": \"level3\"}, {\"name\": \"Senior\", \"group\": \"Se\", \"value\": 237, \"colname\": \"level3\"}, {\"name\": \"Student\", \"group\": \"St\", \"value\": 537, \"colname\": \"level3\"}], \"colname\": \"level2\"}, {\"name\": \"Loving Vincent\", \"children\": [{\"name\": \"Adult\", \"group\": \"Ad\", \"value\": 889, \"colname\": \"level3\"}, {\"name\": \"Senior\", \"group\": \"Se\", \"value\": 647, \"colname\": \"level3\"}, {\"name\": \"Student\", \"group\": \"St\", \"value\": 372, \"colname\": \"level3\"}], \"colname\": \"level2\"}, {\"name\": \"Jackie\", \"children\": [{\"name\": \"Adult\", \"group\": \"Ad\", \"value\": 893, \"colname\": \"level3\"}, {\"name\": \"Senior\", \"group\": \"Se\", \"value\": 779, \"colname\": \"level3\"}, {\"name\": \"Student\", \"group\": \"St\", \"value\": 203, \"colname\": \"level3\"}], \"colname\": \"level2\"}, {\"name\": \"The Room\", \"children\": [{\"name\": \"Adult\", \"group\": \"Ad\", \"value\": 1715, \"colname\": \"level3\"}], \"colname\": \"level2\"}, {\"name\": \"BlacKkKlansman\", \"children\": [{\"name\": \"Adult\", \"group\": \"Ad\", \"value\": 919, \"colname\": \"level3\"}, {\"name\": \"Senior\", \"group\": \"Se\", \"value\": 449, \"colname\": \"level3\"}, {\"name\": \"Student\", \"group\": \"St\", \"value\": 310, \"colname\": \"level3\"}], \"colname\": \"level2\"}, {\"name\": \"The Shape of Water\", \"children\": [{\"name\": \"Adult\", \"group\": \"Ad\", \"value\": 990, \"colname\": \"level3\"}, {\"name\": \"Senior\", \"group\": \"Se\", \"value\": 329, \"colname\": \"level3\"}, {\"name\": \"Student\", \"group\": \"St\", \"value\": 310, \"colname\": \"level3\"}], \"colname\": \"level2\"}, {\"name\": \"Victoria and Abdul\", \"children\": [{\"name\": \"Adult\", \"group\": \"Ad\", \"value\": 464, \"colname\": \"level3\"}, {\"name\": \"Senior\", \"group\": \"Se\", \"value\": 936, \"colname\": \"level3\"}], \"colname\": \"level2\"}, {\"name\": \"Loving\", \"children\": [{\"name\": \"Adult\", \"group\": \"Ad\", \"value\": 700, \"colname\": \"level3\"}, {\"name\": \"Senior\", \"group\": \"Se\", \"value\": 533, \"colname\": \"level3\"}, {\"name\": \"Student\", \"group\": \"St\", \"value\": 204, \"colname\": \"level3\"}], \"colname\": \"level2\"}, {\"name\": \"Three Identical Strangers\", \"children\": [{\"name\": \"Adult\", \"group\": \"Ad\", \"value\": 703, \"colname\": \"level3\"}, {\"name\": \"Senior\", \"group\": \"Se\", \"value\": 519, \"colname\": \"level3\"}, {\"name\": \"Student\", \"group\": \"St\", \"value\": 146, \"colname\": \"level3\"}], \"colname\": \"level2\"}, {\"name\": \"Manchester by the Sea\", \"children\": [{\"name\": \"Adult\", \"group\": \"Ad\", \"value\": 644, \"colname\": \"level3\"}, {\"name\": \"Senior\", \"group\": \"Se\", \"value\": 486, \"colname\": \"level3\"}, {\"name\": \"Student\", \"group\": \"St\", \"value\": 135, \"colname\": \"level3\"}], \"colname\": \"level2\"}, {\"name\": \"The Old Man & the Gun\", \"children\": [{\"name\": \"Adult\", \"group\": \"Ad\", \"value\": 404, \"colname\": \"level3\"}, {\"name\": \"Senior\", \"group\": \"Se\", \"value\": 808, \"colname\": \"level3\"}], \"colname\": \"level2\"}, {\"name\": \"Sorry to Bother You\", \"children\": [{\"name\": \"Adult\", \"group\": \"Ad\", \"value\": 870, \"colname\": \"level3\"}, {\"name\": \"Senior\", \"group\": \"Se\", \"value\": 162, \"colname\": \"level3\"}, {\"name\": \"Student\", \"group\": \"St\", \"value\": 224, \"colname\": \"level3\"}], \"colname\": \"level2\"}, {\"name\": \"I Am Not Your Negro\", \"children\": [{\"name\": \"Adult\", \"group\": \"Ad\", \"value\": 682, \"colname\": \"level3\"}, {\"name\": \"Senior\", \"group\": \"Se\", \"value\": 268, \"colname\": \"level3\"}, {\"name\": \"Student\", \"group\": \"St\", \"value\": 209, \"colname\": \"level3\"}], \"colname\": \"level2\"}, {\"name\": \"Three BIllboards Outside Ebbing, Missouri\", \"children\": [{\"name\": \"Adult\", \"group\": \"Ad\", \"value\": 625, \"colname\": \"level3\"}, {\"name\": \"Senior\", \"group\": \"Se\", \"value\": 365, \"colname\": \"level3\"}, {\"name\": \"Student\", \"group\": \"St\", \"value\": 160, \"colname\": \"level3\"}], \"colname\": \"level2\"}, {\"name\": \"The Big Sick\", \"children\": [{\"name\": \"Adult\", \"group\": \"Ad\", \"value\": 581, \"colname\": \"level3\"}, {\"name\": \"Senior\", \"group\": \"Se\", \"value\": 343, \"colname\": \"level3\"}, {\"name\": \"Student\", \"group\": \"St\", \"value\": 143, \"colname\": \"level3\"}], \"colname\": \"level2\"}, {\"name\": \"The Zookeeper's Wife\", \"children\": [{\"name\": \"Adult\", \"group\": \"Ad\", \"value\": 418, \"colname\": \"level3\"}, {\"name\": \"Senior\", \"group\": \"Se\", \"value\": 530, \"colname\": \"level3\"}], \"colname\": \"level2\"}, {\"name\": \"The Beguiled\", \"children\": [{\"name\": \"Adult\", \"group\": \"Ad\", \"value\": 512, \"colname\": \"level3\"}, {\"name\": \"Senior\", \"group\": \"Se\", \"value\": 463, \"colname\": \"level3\"}], \"colname\": \"level2\"}, {\"name\": \"Kedi\", \"children\": [{\"name\": \"Adult\", \"group\": \"Ad\", \"value\": 510, \"colname\": \"level3\"}, {\"name\": \"Senior\", \"group\": \"Se\", \"value\": 248, \"colname\": \"level3\"}, {\"name\": \"Student\", \"group\": \"St\", \"value\": 206, \"colname\": \"level3\"}], \"colname\": \"level2\"}, {\"name\": \"Don't Think Twice\", \"children\": [{\"name\": \"Adult\", \"group\": \"Ad\", \"value\": 627, \"colname\": \"level3\"}, {\"name\": \"Senior\", \"group\": \"Se\", \"value\": 181, \"colname\": \"level3\"}, {\"name\": \"Student\", \"group\": \"St\", \"value\": 179, \"colname\": \"level3\"}], \"colname\": \"level2\"}, {\"name\": \"First Reformed\", \"children\": [{\"name\": \"Adult\", \"group\": \"Ad\", \"value\": 493, \"colname\": \"level3\"}, {\"name\": \"Senior\", \"group\": \"Se\", \"value\": 437, \"colname\": \"level3\"}], \"colname\": \"level2\"}, {\"name\": \"Cafe Society\", \"children\": [{\"name\": \"Adult\", \"group\": \"Ad\", \"value\": 412, \"colname\": \"level3\"}, {\"name\": \"Senior\", \"group\": \"Se\", \"value\": 442, \"colname\": \"level3\"}], \"colname\": \"level2\"}, {\"name\": \"Phantom Thread\", \"children\": [{\"name\": \"Adult\", \"group\": \"Ad\", \"value\": 518, \"colname\": \"level3\"}, {\"name\": \"Senior\", \"group\": \"Se\", \"value\": 240, \"colname\": \"level3\"}, {\"name\": \"Student\", \"group\": \"St\", \"value\": 151, \"colname\": \"level3\"}], \"colname\": \"level2\"}, {\"name\": \"Darkest Hour\", \"children\": [{\"name\": \"Adult\", \"group\": \"Ad\", \"value\": 434, \"colname\": \"level3\"}, {\"name\": \"Senior\", \"group\": \"Se\", \"value\": 400, \"colname\": \"level3\"}], \"colname\": \"level2\"}, {\"name\": \"Can You Ever Forgive Me?\", \"children\": [{\"name\": \"Adult\", \"group\": \"Ad\", \"value\": 395, \"colname\": \"level3\"}, {\"name\": \"Senior\", \"group\": \"Se\", \"value\": 462, \"colname\": \"level3\"}], \"colname\": \"level2\"}, {\"name\": \"Paterson\", \"children\": [{\"name\": \"Adult\", \"group\": \"Ad\", \"value\": 387, \"colname\": \"level3\"}, {\"name\": \"Senior\", \"group\": \"Se\", \"value\": 357, \"colname\": \"level3\"}, {\"name\": \"Student\", \"group\": \"St\", \"value\": 120, \"colname\": \"level3\"}], \"colname\": \"level2\"}, {\"name\": \"The Wife\", \"children\": [{\"name\": \"Adult\", \"group\": \"Ad\", \"value\": 265, \"colname\": \"level3\"}, {\"name\": \"Senior\", \"group\": \"Se\", \"value\": 541, \"colname\": \"level3\"}], \"colname\": \"level2\"}, {\"name\": \"If Beale Street Could Talk\", \"children\": [{\"name\": \"Adult\", \"group\": \"Ad\", \"value\": 438, \"colname\": \"level3\"}, {\"name\": \"Senior\", \"group\": \"Se\", \"value\": 234, \"colname\": \"level3\"}, {\"name\": \"Student\", \"group\": \"St\", \"value\": 141, \"colname\": \"level3\"}], \"colname\": \"level2\"}, {\"name\": \"Your Name.\", \"children\": [{\"name\": \"Adult\", \"group\": \"Ad\", \"value\": 696, \"colname\": \"level3\"}], \"colname\": \"level2\"}, {\"name\": \"Indignation\", \"children\": [{\"name\": \"Adult\", \"group\": \"Ad\", \"value\": 268, \"colname\": \"level3\"}, {\"name\": \"Senior\", \"group\": \"Se\", \"value\": 397, \"colname\": \"level3\"}], \"colname\": \"level2\"}, {\"name\": \"Lion\", \"children\": [{\"name\": \"Adult\", \"group\": \"Ad\", \"value\": 351, \"colname\": \"level3\"}, {\"name\": \"Senior\", \"group\": \"Se\", \"value\": 315, \"colname\": \"level3\"}], \"colname\": \"level2\"}, {\"name\": \"The Beatles: Eight Days a Week - The Touring Years\", \"children\": [{\"name\": \"Adult\", \"group\": \"Ad\", \"value\": 373, \"colname\": \"level3\"}, {\"name\": \"Senior\", \"group\": \"Se\", \"value\": 281, \"colname\": \"level3\"}], \"colname\": \"level2\"}, {\"name\": \"Mary Queen of Scots\", \"children\": [{\"name\": \"Adult\", \"group\": \"Ad\", \"value\": 340, \"colname\": \"level3\"}, {\"name\": \"Senior\", \"group\": \"Se\", \"value\": 334, \"colname\": \"level3\"}], \"colname\": \"level2\"}, {\"name\": \"A Man Called Ove\", \"children\": [{\"name\": \"Adult\", \"group\": \"Ad\", \"value\": 254, \"colname\": \"level3\"}, {\"name\": \"Senior\", \"group\": \"Se\", \"value\": 427, \"colname\": \"level3\"}], \"colname\": \"level2\"}, {\"name\": \"The Oscar Nominated Short Films 2017: Animation\", \"children\": [{\"name\": \"Adult\", \"group\": \"Ad\", \"value\": 363, \"colname\": \"level3\"}, {\"name\": \"Senior\", \"group\": \"Se\", \"value\": 110, \"colname\": \"level3\"}, {\"name\": \"Student\", \"group\": \"St\", \"value\": 247, \"colname\": \"level3\"}], \"colname\": \"level2\"}, {\"name\": \"At Eternity's Gate\", \"children\": [{\"name\": \"Adult\", \"group\": \"Ad\", \"value\": 277, \"colname\": \"level3\"}, {\"name\": \"Senior\", \"group\": \"Se\", \"value\": 374, \"colname\": \"level3\"}], \"colname\": \"level2\"}, {\"name\": \"The Florida Project\", \"children\": [{\"name\": \"Adult\", \"group\": \"Ad\", \"value\": 385, \"colname\": \"level3\"}, {\"name\": \"Senior\", \"group\": \"Se\", \"value\": 218, \"colname\": \"level3\"}], \"colname\": \"level2\"}, {\"name\": \"Hunt for the Wilderpeople\", \"children\": [{\"name\": \"Adult\", \"group\": \"Ad\", \"value\": 412, \"colname\": \"level3\"}, {\"name\": \"Senior\", \"group\": \"Se\", \"value\": 184, \"colname\": \"level3\"}], \"colname\": \"level2\"}, {\"name\": \"The Favourite\", \"children\": [{\"name\": \"Adult\", \"group\": \"Ad\", \"value\": 346, \"colname\": \"level3\"}, {\"name\": \"Senior\", \"group\": \"Se\", \"value\": 221, \"colname\": \"level3\"}, {\"name\": \"Student\", \"group\": \"St\", \"value\": 132, \"colname\": \"level3\"}], \"colname\": \"level2\"}, {\"name\": \"The Last Black Man in San Francisco\", \"children\": [{\"name\": \"Adult\", \"group\": \"Ad\", \"value\": 321, \"colname\": \"level3\"}, {\"name\": \"Senior\", \"group\": \"Se\", \"value\": 255, \"colname\": \"level3\"}], \"colname\": \"level2\"}, {\"name\": \"Free Solo\", \"children\": [{\"name\": \"Adult\", \"group\": \"Ad\", \"value\": 396, \"colname\": \"level3\"}, {\"name\": \"Student\", \"group\": \"St\", \"value\": 129, \"colname\": \"level3\"}], \"colname\": \"level2\"}, {\"name\": \"Norman\", \"children\": [{\"name\": \"Adult\", \"group\": \"Ad\", \"value\": 193, \"colname\": \"level3\"}, {\"name\": \"Senior\", \"group\": \"Se\", \"value\": 426, \"colname\": \"level3\"}], \"colname\": \"level2\"}, {\"name\": \"Lady Bird\", \"children\": [{\"name\": \"Adult\", \"group\": \"Ad\", \"value\": 303, \"colname\": \"level3\"}, {\"name\": \"Senior\", \"group\": \"Se\", \"value\": 131, \"colname\": \"level3\"}, {\"name\": \"Student\", \"group\": \"St\", \"value\": 180, \"colname\": \"level3\"}], \"colname\": \"level2\"}, {\"name\": \"My Cousin Rachel\", \"children\": [{\"name\": \"Adult\", \"group\": \"Ad\", \"value\": 236, \"colname\": \"level3\"}, {\"name\": \"Senior\", \"group\": \"Se\", \"value\": 349, \"colname\": \"level3\"}], \"colname\": \"level2\"}, {\"name\": \"Lean on Pete\", \"children\": [{\"name\": \"Adult\", \"group\": \"Ad\", \"value\": 255, \"colname\": \"level3\"}, {\"name\": \"Senior\", \"group\": \"Se\", \"value\": 279, \"colname\": \"level3\"}], \"colname\": \"level2\"}, {\"name\": \"Casablanca\", \"children\": [{\"name\": \"Adult\", \"group\": \"Ad\", \"value\": 462, \"colname\": \"level3\"}], \"colname\": \"level2\"}, {\"name\": \"Midsommar\", \"children\": [{\"name\": \"Adult\", \"group\": \"Ad\", \"value\": 358, \"colname\": \"level3\"}, {\"name\": \"Student\", \"group\": \"St\", \"value\": 148, \"colname\": \"level3\"}], \"colname\": \"level2\"}, {\"name\": \"The Lost City of Z\", \"children\": [{\"name\": \"Adult\", \"group\": \"Ad\", \"value\": 273, \"colname\": \"level3\"}, {\"name\": \"Senior\", \"group\": \"Se\", \"value\": 154, \"colname\": \"level3\"}, {\"name\": \"Student\", \"group\": \"St\", \"value\": 107, \"colname\": \"level3\"}], \"colname\": \"level2\"}, {\"name\": \"Mary and the Witch's Flower\", \"children\": [{\"name\": \"Adult\", \"group\": \"Ad\", \"value\": 286, \"colname\": \"level3\"}, {\"name\": \"Student\", \"group\": \"St\", \"value\": 180, \"colname\": \"level3\"}], \"colname\": \"level2\"}, {\"name\": \"The Farewell\", \"children\": [{\"name\": \"Adult\", \"group\": \"Ad\", \"value\": 246, \"colname\": \"level3\"}, {\"name\": \"Senior\", \"group\": \"Se\", \"value\": 153, \"colname\": \"level3\"}, {\"name\": \"Student\", \"group\": \"St\", \"value\": 93, \"colname\": \"level3\"}], \"colname\": \"level2\"}, {\"name\": \"A United Kingdom\", \"children\": [{\"name\": \"Adult\", \"group\": \"Ad\", \"value\": 205, \"colname\": \"level3\"}, {\"name\": \"Senior\", \"group\": \"Se\", \"value\": 246, \"colname\": \"level3\"}], \"colname\": \"level2\"}, {\"name\": \"Roma\", \"children\": [{\"name\": \"Adult\", \"group\": \"Ad\", \"value\": 201, \"colname\": \"level3\"}, {\"name\": \"Senior\", \"group\": \"Se\", \"value\": 222, \"colname\": \"level3\"}], \"colname\": \"level2\"}, {\"name\": \"The Death of Stalin\", \"children\": [{\"name\": \"Adult\", \"group\": \"Ad\", \"value\": 290, \"colname\": \"level3\"}, {\"name\": \"Senior\", \"group\": \"Se\", \"value\": 116, \"colname\": \"level3\"}], \"colname\": \"level2\"}, {\"name\": \"Amazing Grace\", \"children\": [{\"name\": \"Adult\", \"group\": \"Ad\", \"value\": 185, \"colname\": \"level3\"}, {\"name\": \"Senior\", \"group\": \"Se\", \"value\": 235, \"colname\": \"level3\"}], \"colname\": \"level2\"}, {\"name\": \"My Neighbor Totoro\", \"children\": [{\"name\": \"Adult\", \"group\": \"Ad\", \"value\": 176, \"colname\": \"level3\"}, {\"name\": \"Child\", \"group\": \"Ch\", \"value\": 282, \"colname\": \"level3\"}], \"colname\": \"level2\"}, {\"name\": \"Pavarotti\", \"children\": [{\"name\": \"Adult\", \"group\": \"Ad\", \"value\": 79, \"colname\": \"level3\"}, {\"name\": \"Senior\", \"group\": \"Se\", \"value\": 351, \"colname\": \"level3\"}], \"colname\": \"level2\"}, {\"name\": \"The Lovers\", \"children\": [{\"name\": \"Adult\", \"group\": \"Ad\", \"value\": 180, \"colname\": \"level3\"}, {\"name\": \"Senior\", \"group\": \"Se\", \"value\": 242, \"colname\": \"level3\"}], \"colname\": \"level2\"}, {\"name\": \"A Quiet Passion\", \"children\": [{\"name\": \"Adult\", \"group\": \"Ad\", \"value\": 127, \"colname\": \"level3\"}, {\"name\": \"Senior\", \"group\": \"Se\", \"value\": 265, \"colname\": \"level3\"}], \"colname\": \"level2\"}, {\"name\": \"The Oscar Nominated Short Films 2017: Live Action\", \"children\": [{\"name\": \"Adult\", \"group\": \"Ad\", \"value\": 158, \"colname\": \"level3\"}, {\"name\": \"Senior\", \"group\": \"Se\", \"value\": 182, \"colname\": \"level3\"}], \"colname\": \"level2\"}, {\"name\": \"Columbus\", \"children\": [{\"name\": \"Adult\", \"group\": \"Ad\", \"value\": 162, \"colname\": \"level3\"}, {\"name\": \"Senior\", \"group\": \"Se\", \"value\": 200, \"colname\": \"level3\"}], \"colname\": \"level2\"}, {\"name\": \"A Ghost Story\", \"children\": [{\"name\": \"Adult\", \"group\": \"Ad\", \"value\": 242, \"colname\": \"level3\"}, {\"name\": \"Senior\", \"group\": \"Se\", \"value\": 108, \"colname\": \"level3\"}], \"colname\": \"level2\"}, {\"name\": \"Cold War\", \"children\": [{\"name\": \"Adult\", \"group\": \"Ad\", \"value\": 197, \"colname\": \"level3\"}, {\"name\": \"Senior\", \"group\": \"Se\", \"value\": 125, \"colname\": \"level3\"}], \"colname\": \"level2\"}, {\"name\": \"They Shall Not Grow Old\", \"children\": [{\"name\": \"Adult\", \"group\": \"Ad\", \"value\": 217, \"colname\": \"level3\"}, {\"name\": \"Senior\", \"group\": \"Se\", \"value\": 134, \"colname\": \"level3\"}], \"colname\": \"level2\"}, {\"name\": \"Blade Runner\", \"children\": [{\"name\": \"Adult\", \"group\": \"Ad\", \"value\": 355, \"colname\": \"level3\"}], \"colname\": \"level2\"}, {\"name\": \"2019 Oscar Nominated Short Films: Animation\", \"children\": [{\"name\": \"Adult\", \"group\": \"Ad\", \"value\": 153, \"colname\": \"level3\"}, {\"name\": \"Senior\", \"group\": \"Se\", \"value\": 88, \"colname\": \"level3\"}, {\"name\": \"Student\", \"group\": \"St\", \"value\": 81, \"colname\": \"level3\"}], \"colname\": \"level2\"}, {\"name\": \"Shoplifters\", \"children\": [{\"name\": \"Adult\", \"group\": \"Ad\", \"value\": 176, \"colname\": \"level3\"}, {\"name\": \"Senior\", \"group\": \"Se\", \"value\": 60, \"colname\": \"level3\"}, {\"name\": \"Student\", \"group\": \"St\", \"value\": 80, \"colname\": \"level3\"}], \"colname\": \"level2\"}, {\"name\": \"Donnie Darko\", \"children\": [{\"name\": \"Adult\", \"group\": \"Ad\", \"value\": 331, \"colname\": \"level3\"}], \"colname\": \"level2\"}, {\"name\": \"Get Out\", \"children\": [{\"name\": \"Adult\", \"group\": \"Ad\", \"value\": 84, \"colname\": \"level3\"}, {\"name\": \"Comp\", \"group\": \"Co\", \"value\": 247, \"colname\": \"level3\"}], \"colname\": \"level2\"}, {\"name\": \"Akira\", \"children\": [{\"name\": \"Adult\", \"group\": \"Ad\", \"value\": 322, \"colname\": \"level3\"}], \"colname\": \"level2\"}, {\"name\": \"A Fantastic Woman\", \"children\": [{\"name\": \"Adult\", \"group\": \"Ad\", \"value\": 166, \"colname\": \"level3\"}, {\"name\": \"Senior\", \"group\": \"Se\", \"value\": 94, \"colname\": \"level3\"}], \"colname\": \"level2\"}, {\"name\": \"The Birth of a Nation\", \"children\": [{\"name\": \"Adult\", \"group\": \"Ad\", \"value\": 157, \"colname\": \"level3\"}, {\"name\": \"Student\", \"group\": \"St\", \"value\": 95, \"colname\": \"level3\"}], \"colname\": \"level2\"}, {\"name\": \"Suspiria (2018)\", \"children\": [{\"name\": \"Adult\", \"group\": \"Ad\", \"value\": 264, \"colname\": \"level3\"}], \"colname\": \"level2\"}, {\"name\": \"Wildlife\", \"children\": [{\"name\": \"Adult\", \"group\": \"Ad\", \"value\": 142, \"colname\": \"level3\"}, {\"name\": \"Senior\", \"group\": \"Se\", \"value\": 129, \"colname\": \"level3\"}], \"colname\": \"level2\"}, {\"name\": \"The Aftermath\", \"children\": [{\"name\": \"Adult\", \"group\": \"Ad\", \"value\": 118, \"colname\": \"level3\"}, {\"name\": \"Senior\", \"group\": \"Se\", \"value\": 129, \"colname\": \"level3\"}], \"colname\": \"level2\"}, {\"name\": \"Juliet, Naked\", \"children\": [{\"name\": \"Adult\", \"group\": \"Ad\", \"value\": 162, \"colname\": \"level3\"}, {\"name\": \"Senior\", \"group\": \"Se\", \"value\": 105, \"colname\": \"level3\"}], \"colname\": \"level2\"}, {\"name\": \"Lady Macbeth\", \"children\": [{\"name\": \"Adult\", \"group\": \"Ad\", \"value\": 126, \"colname\": \"level3\"}, {\"name\": \"Senior\", \"group\": \"Se\", \"value\": 148, \"colname\": \"level3\"}], \"colname\": \"level2\"}, {\"name\": \"The Oscar Nominated Short Films 2018: Live Action\", \"children\": [{\"name\": \"Adult\", \"group\": \"Ad\", \"value\": 127, \"colname\": \"level3\"}, {\"name\": \"Senior\", \"group\": \"Se\", \"value\": 115, \"colname\": \"level3\"}], \"colname\": \"level2\"}, {\"name\": \"CatVideoFest 2018\", \"children\": [{\"name\": \"Adult\", \"group\": \"Ad\", \"value\": 160, \"colname\": \"level3\"}, {\"name\": \"Senior\", \"group\": \"Se\", \"value\": 54, \"colname\": \"level3\"}], \"colname\": \"level2\"}, {\"name\": \"The Oscar Nominated Short Films 2018: Animation\", \"children\": [{\"name\": \"Adult\", \"group\": \"Ad\", \"value\": 137, \"colname\": \"level3\"}, {\"name\": \"Senior\", \"group\": \"Se\", \"value\": 93, \"colname\": \"level3\"}], \"colname\": \"level2\"}, {\"name\": \"Red Joan\", \"children\": [{\"name\": \"Adult\", \"group\": \"Ad\", \"value\": 84, \"colname\": \"level3\"}, {\"name\": \"Senior\", \"group\": \"Se\", \"value\": 179, \"colname\": \"level3\"}], \"colname\": \"level2\"}, {\"name\": \"All the Queen's Horses\", \"children\": [{\"name\": \"Adult\", \"group\": \"Ad\", \"value\": 104, \"colname\": \"level3\"}, {\"name\": \"Senior\", \"group\": \"Se\", \"value\": 146, \"colname\": \"level3\"}], \"colname\": \"level2\"}, {\"name\": \"Booksmart\", \"children\": [{\"name\": \"Adult\", \"group\": \"Ad\", \"value\": 209, \"colname\": \"level3\"}], \"colname\": \"level2\"}, {\"name\": \"The Handmaiden\", \"children\": [{\"name\": \"Adult\", \"group\": \"Ad\", \"value\": 215, \"colname\": \"level3\"}], \"colname\": \"level2\"}, {\"name\": \"Tickled\", \"children\": [{\"name\": \"Adult\", \"group\": \"Ad\", \"value\": 182, \"colname\": \"level3\"}, {\"name\": \"Student\", \"group\": \"St\", \"value\": 65, \"colname\": \"level3\"}], \"colname\": \"level2\"}, {\"name\": \"Viceroy's House\", \"children\": [{\"name\": \"Adult\", \"group\": \"Ad\", \"value\": 88, \"colname\": \"level3\"}, {\"name\": \"Senior\", \"group\": \"Se\", \"value\": 150, \"colname\": \"level3\"}], \"colname\": \"level2\"}, {\"name\": \"The Salesman\", \"children\": [{\"name\": \"Adult\", \"group\": \"Ad\", \"value\": 79, \"colname\": \"level3\"}, {\"name\": \"Senior\", \"group\": \"Se\", \"value\": 100, \"colname\": \"level3\"}, {\"name\": \"Student\", \"group\": \"St\", \"value\": 79, \"colname\": \"level3\"}], \"colname\": \"level2\"}, {\"name\": \"The Oscar Nominated Short Films 2019: Live Action\", \"children\": [{\"name\": \"Adult\", \"group\": \"Ad\", \"value\": 114, \"colname\": \"level3\"}, {\"name\": \"Senior\", \"group\": \"Se\", \"value\": 91, \"colname\": \"level3\"}], \"colname\": \"level2\"}, {\"name\": \"Colossal\", \"children\": [{\"name\": \"Adult\", \"group\": \"Ad\", \"value\": 174, \"colname\": \"level3\"}], \"colname\": \"level2\"}, {\"name\": \"The Innocents\", \"children\": [{\"name\": \"Adult\", \"group\": \"Ad\", \"value\": 93, \"colname\": \"level3\"}, {\"name\": \"Senior\", \"group\": \"Se\", \"value\": 137, \"colname\": \"level3\"}], \"colname\": \"level2\"}, {\"name\": \"Thoroughbreds\", \"children\": [{\"name\": \"Adult\", \"group\": \"Ad\", \"value\": 184, \"colname\": \"level3\"}], \"colname\": \"level2\"}, {\"name\": \"The Miseducation of Cameron Post\", \"children\": [{\"name\": \"Adult\", \"group\": \"Ad\", \"value\": 127, \"colname\": \"level3\"}, {\"name\": \"Student\", \"group\": \"St\", \"value\": 69, \"colname\": \"level3\"}], \"colname\": \"level2\"}, {\"name\": \"Everglades of the North\", \"children\": [{\"name\": \"Comp\", \"group\": \"Co\", \"value\": 246, \"colname\": \"level3\"}], \"colname\": \"level2\"}, {\"name\": \"Happy Death Day\", \"children\": [{\"name\": \"Comp\", \"group\": \"Co\", \"value\": 246, \"colname\": \"level3\"}], \"colname\": \"level2\"}, {\"name\": \"The Grand Budapest Hotel\", \"children\": [{\"name\": \"Adult\", \"group\": \"Ad\", \"value\": 246, \"colname\": \"level3\"}], \"colname\": \"level2\"}, {\"name\": \"Mountainfilm 2017\", \"children\": [{\"name\": \"Adult\", \"group\": \"Ad\", \"value\": 231, \"colname\": \"level3\"}], \"colname\": \"level2\"}, {\"name\": \"The Oscar Nominated Short Films 2018: Documentary\", \"children\": [{\"name\": \"Adult\", \"group\": \"Ad\", \"value\": 123, \"colname\": \"level3\"}, {\"name\": \"Senior\", \"group\": \"Se\", \"value\": 92, \"colname\": \"level3\"}], \"colname\": \"level2\"}, {\"name\": \"Menashe\", \"children\": [{\"name\": \"Adult\", \"group\": \"Ad\", \"value\": 92, \"colname\": \"level3\"}, {\"name\": \"Senior\", \"group\": \"Se\", \"value\": 116, \"colname\": \"level3\"}], \"colname\": \"level2\"}], \"name\": \"CEO\"}\n"
          ],
          "name": "stdout"
        }
      ]
    },
    {
      "cell_type": "code",
      "metadata": {
        "id": "rzatyEiM2q9F",
        "colab_type": "code",
        "outputId": "41a8b155-1b88-4599-9db9-1ec98dcb479e",
        "colab": {
          "base_uri": "https://localhost:8080/",
          "height": 54
        }
      },
      "source": [
        "print(tree_list)"
      ],
      "execution_count": 0,
      "outputs": [
        {
          "output_type": "stream",
          "text": [
            "['2019 Oscar Nominated Short Films: Animation', 'A Bread Factory, Part One', 'A Bread Factory, Part Two', 'A Faithful Man ', 'A Fantastic Woman', 'A Ghost Story', 'A Goofy Movie', \"A Hard Day's Night\", 'A League of Their Own', 'A Man Called Ove', 'A Matter of Life and Death', 'A Quiet Passion', 'A Quiet Place', 'A United Kingdom', 'After Auschwitz', 'Akira', 'Ali: Fear Eats The Soul', 'Alien', 'Alive and Kicking', 'All Is True', 'All Nite Movie Marathon']\n"
          ],
          "name": "stdout"
        }
      ]
    },
    {
      "cell_type": "code",
      "metadata": {
        "id": "gSggHtR1CfUW",
        "colab_type": "code",
        "outputId": "7588ae90-7945-402e-cb1f-ee0e60ce5361",
        "colab": {
          "base_uri": "https://localhost:8080/",
          "height": 54
        }
      },
      "source": [
        "print(color_list[:20])"
      ],
      "execution_count": 0,
      "outputs": [
        {
          "output_type": "stream",
          "text": [
            "['#2b2b2b', '#ffd700', '#1a1a1a', '#ffff00', '#1c1c1c', '#9c9c9c', '#999999', '#8fbc8f', '#9e9e9e', '#a6a6a6', '#1f1f1f', '#ababab', '#a8a8a8', '#b0b0b0', '#363636', '#8b5742', '#ee9572', '#cd8162', '#ffa07a', '#525252']\n"
          ],
          "name": "stdout"
        }
      ]
    },
    {
      "cell_type": "code",
      "metadata": {
        "id": "LtBWvsQ6IpAf",
        "colab_type": "code",
        "colab": {}
      },
      "source": [
        ""
      ],
      "execution_count": 0,
      "outputs": []
    }
  ]
}